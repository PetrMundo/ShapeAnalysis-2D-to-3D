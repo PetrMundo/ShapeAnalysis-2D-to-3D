{
  "nbformat": 4,
  "nbformat_minor": 0,
  "metadata": {
    "colab": {
      "provenance": []
    },
    "kernelspec": {
      "name": "python3",
      "display_name": "Python 3"
    },
    "language_info": {
      "name": "python"
    }
  },
  "cells": [
    {
      "cell_type": "markdown",
      "source": [
        "This notebook is intended just for the SVG files in the paper:\n",
        "\n",
        "\"Automatic 3D reconstruction from 2D orthographic drawings\"\n",
        "\n",
        "Assumptions:\n",
        "\n",
        "1. The structure of the XML files is as follows:\n",
        "    \n",
        "        xml info\n",
        "        svg info\n",
        "            title\n",
        "            description\n",
        "            definitions\n",
        "            content group\n",
        "                container group\n",
        "                    edge container (contains transform and hidden line info)\n",
        "                        edge projection\n",
        "                    edge container\n",
        "                        edge projection\n",
        "                    .\n",
        "                    .\n",
        "                    .\n",
        "                    edge container\n",
        "                        edge projection\n",
        "      \n",
        "2. All projections are first angle:\n",
        "    Left view is located to the right of the front view\n",
        "    Bottom view is located on top of the front view\n",
        "    etc.\n",
        "3. The drawing contains exactly three views: Front, Bottom, and Left\n",
        "4. Transforms specified in the edge container do not include skews or rotations. I am just extracting the translation part.\n",
        "5. The transform translation information specifies the view, e.g:\n",
        "    - Front view is\n",
        "        \n",
        "        (1485, 1050)\n",
        "    - Bottom view is\n",
        "        \n",
        "        (1485, 700)\n",
        "    - Left view is\n",
        "        \n",
        "        (1800, 1050)\n",
        "6. All edge elements are given as paths.\n",
        "7. All line elements are specified with absolute line units \"L\"\n",
        "8. All curve elements are specified with absolute cubic Bezier units \"C\"\n",
        "9. All curve elements are quarter circles (We'll see about this one)\n",
        "    - I'm not sure how to calculate the bounding box of a bezier curve.\n",
        "    - Quarter circles have a bounding box that is easy to calculate"
      ],
      "metadata": {
        "id": "DEE8k2LJIrSC"
      }
    },
    {
      "cell_type": "code",
      "source": [
        "import re\n",
        "import numpy as np\n",
        "from xml.etree import ElementTree as ET\n",
        "from typing import Tuple\n",
        "\n",
        "LOOPMAX: int = 1000"
      ],
      "metadata": {
        "id": "z4gi5mEmIx3k"
      },
      "execution_count": null,
      "outputs": []
    },
    {
      "cell_type": "code",
      "source": [
        "class View:\n",
        "    def __init__(self, coords: Tuple[float, float]):\n",
        "        self.coords = coords\n",
        "        self.absolute = True\n",
        "        self.b_box = ((None, None), (None, None))\n",
        "        self.lines = []\n",
        "\n",
        "    def append(self, item) -> None: # item should be a Move, Line, or Curve instance\n",
        "        self.lines.append(item)"
      ],
      "metadata": {
        "id": "UAsgV8YkJpTq"
      },
      "execution_count": null,
      "outputs": []
    },
    {
      "cell_type": "code",
      "source": [
        "class Move:\n",
        "    def __init__(self, text: str):\n",
        "        self.text: str = text\n",
        "\n",
        "        # Split text by commas or spaces (both are valid delimiters)\n",
        "        move_list: list = re.split(r\"[, ]+\", self.text)\n",
        "        # Remove 'M' from first element to make it consist of just numbers, minus sign, and/or decimal points\n",
        "        move_list[0] = re.sub(\"M\", \"\", move_list[0])\n",
        "\n",
        "        self.x: float = float(move_list[0])\n",
        "        self.y: float = float(move_list[1])\n",
        "        self.end_coords: tuple = (self.x, self.y)"
      ],
      "metadata": {
        "id": "VzLZ8wo-KSlu"
      },
      "execution_count": null,
      "outputs": []
    },
    {
      "cell_type": "code",
      "source": [
        "move = Move(\"M219.615,-410.764 \")\n",
        "\n",
        "print(move.text)\n",
        "print(f\"x: {move.x:<8}\\t y: {move.y}\")"
      ],
      "metadata": {
        "id": "7wNQ32KyKVVi"
      },
      "execution_count": null,
      "outputs": []
    },
    {
      "cell_type": "code",
      "source": [
        "class Line:\n",
        "    def __init__(self, text: str, current_pt: Tuple[float, float], view_coords: Tuple[float, float], hidden=False):\n",
        "        self.text: str = text\n",
        "\n",
        "        # Split text by commas or spaces (both are valid delimiters)\n",
        "        line_list: list = re.split(r\"[, ]+\", self.text)\n",
        "        # Remove 'M' from first element to make it consist of just numbers, minus sign, and/or decimal points\n",
        "        line_list[0] = re.sub(\"L\", \"\", line_list[0])\n",
        "\n",
        "        self.x1, self.y1 = current_pt\n",
        "        self.x2 = float(line_list[0])\n",
        "        self.y2 = float(line_list[1])\n",
        "        self.end_coords: tuple = (self.x2, self.y2)\n",
        "\n",
        "        self.Pt: bool = (self.x1 == self.x2) and (self.y1 == self.y2)\n",
        "        self.v: bool = (self.x1 == self.x2) and (self.y1 != self.y2)\n",
        "        self.h: bool = (self.x1 != self.x2) and (self.y1 == self.y2)\n",
        "        self.I: bool = (self.x1 != self.x2) and (self.y1 != self.y2)\n",
        "\n",
        "        # Determine plane to determine projection type\n",
        "\n",
        "\n",
        "        # x1, y1, x2, and y2 form the bounding box\n",
        "        # Find the lower bound for x and y\n",
        "        # These evaluate differently if coordinates are relative vs absolute\n",
        "        self.x_l: float = (self.x1<self.x2)*self.x1 + (self.x1>=self.x2)*self.x2\n",
        "        self.y_l: float = (self.y1<self.y2)*self.y1 + (self.y1>=self.y2)*self.y2\n",
        "        # Find the upper bound for x and y\n",
        "        self.x_u: float = (self.x1>self.x2)*self.x1 + (self.x1>=self.x2)*self.x2\n",
        "        self.y_u: float = (self.y1>self.y2)*self.y1 + (self.y1<=self.y2)*self.y2\n",
        "\n",
        "        self.b_box: Tuple[Tuple[float]] = ((self.x1, self.y1), (self.x2, self.y2))\n",
        "\n",
        "    def transform(self, x: float, y: float) -> tuple:\n",
        "        return x - self.view_x_l, self.view_y_l - y\n",
        "\n",
        "    def detransform(self, x: float, y: float) -> tuple:\n",
        "        return x + self.view_x_l, self.view_y_l + y\n",
        "\n",
        "    def convert_to_view_rel_coords(self) -> None:\n",
        "        self.x1, self.y1 = self.transform(self.x1, self.y1)\n",
        "        self.x2, self.y2 = self.transform(self.x2, self.y2)\n",
        "\n",
        "        # Need to think about these ones - do x1, x2, y1, and y2 update immediately?\n",
        "        self.x_l, self.y_l = self.transform(self.x_l, self.y_l)\n",
        "        self.x_u, self.y_u = self.transform(self)\n",
        "\n",
        "    def convert_to_abs_coords(self) -> None:\n",
        "        self.x1, self.y1 = self.detransform(self.x1, self.y1)\n",
        "        self.x2, self.y2 = self.detransform(self.x2, self.y2)\n",
        "\n",
        "        # Need to think about these ones - do x1, x2, y1, and y2 update immediately?\n",
        "        self.x_l, self.y_l = self.detransform(self.x_l, self.y_l)\n",
        "        self.x_u, self.y_u = self.detransform(self)"
      ],
      "metadata": {
        "id": "DCdGzUx4Kc2z"
      },
      "execution_count": null,
      "outputs": []
    },
    {
      "cell_type": "code",
      "source": [],
      "metadata": {
        "id": "ncEjBfsmRFiT"
      },
      "execution_count": null,
      "outputs": []
    },
    {
      "cell_type": "code",
      "source": [
        "class SVG_Drawing:\n",
        "    def __init__(self, file_path: str, angle_projection: str = 'First'):\n",
        "        self.file_path: str = file_path\n",
        "        self.angle_projection: str = angle_projection.lower()\n",
        "        self.tree = ET.parse(file_path)\n",
        "        self.root = self.tree.getroot()\n",
        "\n",
        "        # Handling views\n",
        "        # Absolute coordinates\n",
        "        view_coords: set = set()\n",
        "        self.line_elements: list = []\n",
        "        # Looking to extract 'transform' attribute\n",
        "        # The last two arguments in transform are the x translation and y translation, respectively\n",
        "        # We skip the first elem because it seems like it's just a rectangle with no size\n",
        "        for elem in self.root[3][0][1:]:\n",
        "            matrix_list = re.split(\",\", elem.attrib['transform'])\n",
        "            matrix_list[-1] = re.sub(\"\\)\", \"\", matrix_list[-1])\n",
        "            view_coords.add((float(matrix_list[-2]), float(matrix_list[-1])))\n",
        "\n",
        "            # Also keep track if the line element is a hidden line\n",
        "            hidden = (\"stroke-dasharray\" in elem.attrib)\n",
        "\n",
        "            # Extracting line segment information\n",
        "            line_path = elem[0].attrib['d']\n",
        "            if line_path is not None:\n",
        "                # Split string by letters:\n",
        "                #re.split(r'([A-Za-z])'\n",
        "                pass\n",
        "\n",
        "        # There should be 3 views in total\n",
        "        assert len(view_coords) >= 3, \"Not enough views\"\n",
        "        assert len(view_coords) == 3, \"Too many views\"\n",
        "\n",
        "\n",
        "\n",
        "\n",
        "        # Classify and instantiate the views\n",
        "        # Angle projection is assumed to be 1st Angle\n",
        "\n",
        "        view_coords = sorted(list(view_coords))\n",
        "        # Left view will be to the right of front view (so x will be greater)\n",
        "        self.LeftView = View(view_coords[-1])\n",
        "        # Bottom view will be on top of the front view (so y will be less, since y is inverted in SVG)\n",
        "        self.BottomView = View(view_coords[0])\n",
        "        # Front view is the only one left\n",
        "        self.FrontView = View(view_coords[1])\n",
        "\n",
        "        # Process view characteristics here\n",
        "        for elem in self.root[3][0][1:]:\n",
        "\n",
        "            path_text = elem[0].attrib['d']\n",
        "            segments = re.findall(r'[A-Za-z][^A-Za-z]*', path_text)\n",
        "            for seg in segments:\n",
        "                current_pt: tuple = (0., 0.)\n",
        "                if seg[0] == 'M':\n",
        "                    current_pt = (Move(seg).end_coords)\n",
        "                elif seg[0] == 'L':\n",
        "                    self.line_elements.append(Line(seg, current_pt=current_pt, view_coords=self.FrontView.coords,\\\n",
        "                                                   hidden=hidden))\n",
        "                    current_pt = (Line(seg, current_pt=current_pt, view_coords=self.FrontView.coords,\\\n",
        "                                                   hidden=hidden).end_coords)\n",
        "                elif seg[0] == 'C':\n",
        "                    self.line_elements.append(Curve(seg, current_pt=current_pt, view_coords=self.FrontView.coords, \\\n",
        "                                                   hidden=hidden))\n",
        "                    current_pt = (Curve(seg, current_pt=current_pt, view_coords=self.FrontView.coords, \\\n",
        "                                                   hidden=hidden).end_coords)"
      ],
      "metadata": {
        "id": "WgCjh18NJD9e"
      },
      "execution_count": null,
      "outputs": []
    },
    {
      "cell_type": "code",
      "source": [
        "dwg = SVG_Drawing('00000145.svg')\n",
        "dwg.line_elements"
      ],
      "metadata": {
        "id": "WpvDknYTJodR"
      },
      "execution_count": null,
      "outputs": []
    }
  ]
}